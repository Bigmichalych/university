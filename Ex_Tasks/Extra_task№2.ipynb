{
  "nbformat": 4,
  "nbformat_minor": 0,
  "metadata": {
    "colab": {
      "provenance": [],
      "include_colab_link": true
    },
    "kernelspec": {
      "name": "python3",
      "display_name": "Python 3"
    },
    "language_info": {
      "name": "python"
    }
  },
  "cells": [
    {
      "cell_type": "markdown",
      "metadata": {
        "id": "view-in-github",
        "colab_type": "text"
      },
      "source": [
        "<a href=\"https://colab.research.google.com/github/Bigmichalych/university/blob/main/Ex_Tasks/Extra_task%E2%84%962.ipynb\" target=\"_parent\"><img src=\"https://colab.research.google.com/assets/colab-badge.svg\" alt=\"Open In Colab\"/></a>"
      ]
    },
    {
      "cell_type": "markdown",
      "source": [
        "### **Дополнительное задание №2**"
      ],
      "metadata": {
        "id": "AFKOdzjAKWYc"
      }
    },
    {
      "cell_type": "code",
      "source": [
        "phone_9, phone_11, x, BOOK = 0, 0, 0, {}\n",
        "\n",
        "def standart_name(name: str) -> str:\n",
        "  \"\"\"\n",
        "  стандартизирует имя, чтобы только первая буква текста была заглавной\n",
        "  \"\"\"\n",
        "  return name.title()\n",
        "\n",
        "def standart_phone(phone: str) -> str:\n",
        "  \"\"\"\n",
        "  стандартизирует номер, берет срез от 10-го с конца символа до последнего\n",
        "  и добавляет в начало \"+7\"\n",
        "  \"\"\"\n",
        "  phone_9 = phone[-10:]\n",
        "  phone_11 = '+7' + phone_9\n",
        "  return phone_11\n",
        "\n",
        "def add_contakt(BOOK: dict) -> dict:\n",
        "  \"\"\"\n",
        "  Добавляет контакт в книгу\n",
        "  \"\"\"\n",
        "  name = input('Введите имя ')\n",
        "  phone = input(\"Введите номер \")\n",
        "\n",
        "  new_name = standart_name(name)\n",
        "  new_phone = standart_phone(phone)\n",
        "  BOOK[new_name] = new_phone\n",
        "  print('Контакт успешно создан;)')\n",
        "  return BOOK\n",
        "\n",
        "def delete_contakt(BOOK: dict) -> dict:\n",
        "  \"\"\"\n",
        "  Удаляет контакт из книги\n",
        "  \"\"\"\n",
        "  name = input(\"Введите имя \")\n",
        "  new_name = standart_name(name)\n",
        "\n",
        "  if new_name in BOOK:\n",
        "    del BOOK[new_name]\n",
        "    print(\"Контакт успешно удален \")\n",
        "  else:\n",
        "    print(\"Контакт не найден :( попробуй еще раз\")\n",
        "  return BOOK\n",
        "\n",
        "def spisok(BOOK: dict) -> dict:\n",
        "  \"\"\"\n",
        "  Печатает список контактов\n",
        "  \"\"\"\n",
        "  if len(BOOK) == 0:\n",
        "      print(\"Нет контактов\")\n",
        "  else:\n",
        "    for i in BOOK:\n",
        "      print(i, BOOK[i])\n",
        "  return BOOK\n",
        "\n",
        "def edit_phone(BOOK: dict) -> dict:\n",
        "  \"\"\"\n",
        "  Изменяет номер телефона контакта\n",
        "  \"\"\"\n",
        "  name_s = input(\"Введите имя \")\n",
        "  new_name = standart_name(name_s)\n",
        "\n",
        "  if new_name in BOOK:\n",
        "    phone_s = input(\"Введите новый номер \")\n",
        "    BOOK[new_name] = standart_phone(phone_s)\n",
        "    print(\"Номер успешно обновлен\")\n",
        "  else:\n",
        "    print(\"Контакт не найден\")\n",
        "  return BOOK\n",
        "\n",
        "def menu() -> None:\n",
        "  \"\"\"\n",
        "  Меню для выбора действий\n",
        "  \"\"\"\n",
        "  global BOOK, x\n",
        "  print(\"\\nВыберите функцию\")\n",
        "  print(\"1. Добавить контакт\")\n",
        "  print(\"2. Удалить контакт\")\n",
        "  print(\"3. Показать список контактов\")\n",
        "  print(\"4. Изменить номер\")\n",
        "  print(\"5. Выход\")\n",
        "\n",
        "  x = int(input(\"Введите номер функции: \"))\n",
        "  if x == 1:\n",
        "    BOOK = add_contakt(BOOK)\n",
        "  elif x == 2:\n",
        "    BOOK = delete_contakt(BOOK)\n",
        "  elif x == 3:\n",
        "    BOOK = spisok(BOOK)\n",
        "  elif x == 4:\n",
        "    BOOK = edit_phone(BOOK)\n",
        "  elif x == 5:\n",
        "    print(\"Выход из программы\")\n",
        "  else:\n",
        "    print(\"Неверный ввод. Попробуйте еще раз.\")\n",
        "\n",
        "# Запускаем меню в цикле\n",
        "while True:\n",
        "  if x == 5:\n",
        "    break\n",
        "  else:\n",
        "    menu()"
      ],
      "metadata": {
        "id": "g4gpq3TwKus0"
      },
      "execution_count": null,
      "outputs": []
    }
  ]
}